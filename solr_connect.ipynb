{
 "cells": [
  {
   "cell_type": "code",
   "execution_count": 1,
   "metadata": {},
   "outputs": [],
   "source": [
    "import solr"
   ]
  },
  {
   "cell_type": "code",
   "execution_count": 2,
   "metadata": {},
   "outputs": [],
   "source": [
    "s = solr.SolrConnection(\"http://localhost:8983/solr/uscis\")"
   ]
  },
  {
   "cell_type": "code",
   "execution_count": 6,
   "metadata": {},
   "outputs": [
    {
     "data": {
      "text/plain": [
       "<solr.core.Response at 0x2c6251288c8>"
      ]
     },
     "execution_count": 6,
     "metadata": {},
     "output_type": "execute_result"
    }
   ],
   "source": [
    "response = s.query(\"Employer:Technomax\")\n",
    "response"
   ]
  },
  {
   "cell_type": "code",
   "execution_count": 8,
   "metadata": {},
   "outputs": [
    {
     "name": "stdout",
     "output_type": "stream",
     "text": [
      "{'Employer': ['TECHNOMAX LLC'], 'NAICS': [54], 'State': ['NJ'], 'City': ['PRINCETON JUNCTION'], 'ZIP': [8550], 'id': 'a12727dc-3b8a-4516-81c8-6262ac85b873', 'Fiscal_Year': [2016], 'Initial_Approvals': [4], 'Initial_Denials': [1], 'Continuing_Approvals': [11], 'Continuing_Denials': [1], 'Tax_ID': [8269], '_version_': 1646911586278834177, 'score': 5.8667064}\n",
      "{'Employer': ['TECHNOMAX LLC'], 'NAICS': [54], 'State': ['NJ'], 'City': ['WEST WINDSOR'], 'ZIP': [8550], 'id': 'a07c26ed-941f-4bfc-93de-34e355b3221f', 'Fiscal_Year': [2016], 'Initial_Approvals': [7], 'Initial_Denials': [3], 'Continuing_Approvals': [5], 'Continuing_Denials': [0], 'Tax_ID': [8269], '_version_': 1646911586278834178, 'score': 5.8667064}\n",
      "{'Employer': ['TECHNOMAX LLC'], 'NAICS': [54], 'State': ['NJ'], 'City': ['PRINCETON'], 'ZIP': [8540], 'id': '97244a94-ad7a-48b2-b182-b7acad7c24e0', 'Fiscal_Year': [2013], 'Initial_Approvals': [0], 'Initial_Denials': [0], 'Continuing_Approvals': [1], 'Continuing_Denials': [0], 'Tax_ID': [8269], '_version_': 1646911504706961408, 'score': 5.8667064}\n",
      "{'Employer': ['TECHNOMAX LLC'], 'NAICS': [54], 'State': ['NJ'], 'City': ['PRINCETON JUNCTION'], 'ZIP': [8550], 'id': 'cddbe43c-1b3c-406b-b4f4-045c27a4e121', 'Fiscal_Year': [2013], 'Initial_Approvals': [1], 'Initial_Denials': [0], 'Continuing_Approvals': [0], 'Continuing_Denials': [0], 'Tax_ID': [8269], '_version_': 1646911504706961409, 'score': 5.8667064}\n",
      "{'Employer': ['TECHNOMAX LLC'], 'NAICS': [54], 'State': ['NJ'], 'City': ['WEST WINDSOR'], 'ZIP': [8550], 'id': 'cc9e6812-083f-4e2c-b160-c294305015b4', 'Fiscal_Year': [2015], 'Initial_Approvals': [1], 'Initial_Denials': [0], 'Continuing_Approvals': [0], 'Continuing_Denials': [0], 'Tax_ID': [8269], '_version_': 1646911579447361540, 'score': 5.8667064}\n",
      "{'Employer': ['TECHNOMAX LLC'], 'NAICS': [54], 'State': ['NJ'], 'City': ['WEST WINDSON'], 'ZIP': [8550], 'id': '21799e92-2b7e-422f-8917-317104f03785', 'Fiscal_Year': [2017], 'Initial_Approvals': [1], 'Initial_Denials': [0], 'Continuing_Approvals': [0], 'Continuing_Denials': [0], 'Tax_ID': [8269], '_version_': 1646911596356698113, 'score': 5.8667064}\n",
      "{'Employer': ['TECHNOMAX LLC'], 'NAICS': [54], 'State': ['NJ'], 'City': ['WEST WINDSOR'], 'ZIP': [8550], 'id': 'eddca514-fd95-47fb-9371-88c89b9c8972', 'Fiscal_Year': [2017], 'Initial_Approvals': [0], 'Initial_Denials': [0], 'Continuing_Approvals': [13], 'Continuing_Denials': [0], 'Tax_ID': [8269], '_version_': 1646911596357746688, 'score': 5.8667064}\n",
      "{'Employer': ['TECHNOMAX LLC'], 'NAICS': [54], 'State': ['NJ'], 'City': ['PRINCETON'], 'ZIP': [8540], 'id': 'e67c523e-396c-441e-ba25-036ccf131fcd', 'Fiscal_Year': [2012], 'Initial_Approvals': [0], 'Initial_Denials': [0], 'Continuing_Approvals': [3], 'Continuing_Denials': [0], 'Tax_ID': [8269], '_version_': 1646911489551892482, 'score': 5.581411}\n",
      "{'Employer': ['TECHNOMAX LLC'], 'NAICS': [54], 'State': ['NJ'], 'City': ['MILLTOWN'], 'ZIP': [8850], 'id': 'e2268dff-b92b-4511-8d43-d780bd9b31d6', 'Fiscal_Year': [2013], 'Initial_Approvals': [0], 'Initial_Denials': [0], 'Continuing_Approvals': [1], 'Continuing_Denials': [0], 'Tax_ID': [8269], '_version_': 1646911504706961408, 'score': 5.581411}\n",
      "{'Employer': ['TECHNOMAX LLC'], 'NAICS': [54], 'State': ['NJ'], 'City': ['MILLTOWN'], 'ZIP': [8850], 'id': 'bd66c2c7-c4ad-4d8e-83dc-0d3d30ac57f3', 'Fiscal_Year': [2014], 'Initial_Approvals': [0], 'Initial_Denials': [0], 'Continuing_Approvals': [1], 'Continuing_Denials': [1], 'Tax_ID': [8269], '_version_': 1646911572087406593, 'score': 5.581411}\n"
     ]
    }
   ],
   "source": [
    "for hit in response.results:\n",
    "    print(hit)"
   ]
  },
  {
   "cell_type": "code",
   "execution_count": 10,
   "metadata": {},
   "outputs": [
    {
     "name": "stdout",
     "output_type": "stream",
     "text": [
      "Help on package solr:\n",
      "\n",
      "NAME\n",
      "    solr\n",
      "\n",
      "PACKAGE CONTENTS\n",
      "    core\n",
      "    paginator\n",
      "\n",
      "DATA\n",
      "    absolute_import = _Feature((2, 5, 0, 'alpha', 1), (3, 0, 0, 'alpha', 0...\n",
      "\n",
      "FILE\n",
      "    c:\\users\\kvsis\\anaconda3\\envs\\cdqaenv\\lib\\site-packages\\solr\\__init__.py\n",
      "\n",
      "\n"
     ]
    }
   ],
   "source": [
    "help(solr)"
   ]
  }
 ],
 "metadata": {
  "kernelspec": {
   "display_name": "Python 3",
   "language": "python",
   "name": "python3"
  },
  "language_info": {
   "codemirror_mode": {
    "name": "ipython",
    "version": 3
   },
   "file_extension": ".py",
   "mimetype": "text/x-python",
   "name": "python",
   "nbconvert_exporter": "python",
   "pygments_lexer": "ipython3",
   "version": "3.7.4"
  }
 },
 "nbformat": 4,
 "nbformat_minor": 2
}
